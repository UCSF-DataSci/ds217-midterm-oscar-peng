{
 "cells": [
  {
   "cell_type": "markdown",
   "metadata": {},
   "source": [
    "# Assignment 5, Question 7: Group Operations & Final Analysis\n",
    "\n",
    "**Points: 15**\n",
    "\n",
    "Perform grouped analysis and create summary reports."
   ]
  },
  {
   "cell_type": "markdown",
   "metadata": {},
   "source": [
    "## Setup"
   ]
  },
  {
   "cell_type": "code",
   "execution_count": 111,
   "metadata": {},
   "outputs": [
    {
     "name": "stdout",
     "output_type": "stream",
     "text": [
      "Loaded 8328 patients\n"
     ]
    }
   ],
   "source": [
    "import pandas as pd\n",
    "import numpy as np\n",
    "import matplotlib.pyplot as plt\n",
    "\n",
    "# Import utilities\n",
    "from q3_data_utils import load_data, summarize_by_group\n",
    "\n",
    "# I changed the loaded data set to one that is a continuation from q6, but continued with using the sites\n",
    "# and didn't drop those columns so that could continue my analysis accurately.\n",
    "df = load_data('data/q6_transformed_data_no_drop_site_or_intervention.csv')\n",
    "print(f\"Loaded {len(df)} patients\")\n",
    "\n",
    "# Prewritten visualization function for grouped analysis\n",
    "def plot_group_comparison(data, x_col, y_col, title):\n",
    "    \"\"\"\n",
    "    Create a bar chart comparing groups.\n",
    "    \n",
    "    Args:\n",
    "        data: DataFrame with grouped data\n",
    "        x_col: Column name for x-axis (groups)\n",
    "        y_col: Column name for y-axis (values)\n",
    "        title: Chart title\n",
    "    \"\"\"\n",
    "    plt.figure(figsize=(10, 6))\n",
    "    data.plot(x=x_col, y=y_col, kind='bar')\n",
    "    plt.title(title)\n",
    "    plt.xticks(rotation=45)\n",
    "    plt.tight_layout()\n",
    "    plt.show()"
   ]
  },
  {
   "cell_type": "markdown",
   "metadata": {},
   "source": [
    "## Part 1: Basic Groupby (5 points)\n",
    "\n",
    "1. Group by 'site' and calculate mean age, BMI, and blood pressure\n",
    "2. Group by 'intervention_group' and count patients\n",
    "3. Use the `summarize_by_group()` utility to get overall statistics by site"
   ]
  },
  {
   "cell_type": "code",
   "execution_count": 112,
   "metadata": {},
   "outputs": [
    {
     "name": "stdout",
     "output_type": "stream",
     "text": [
      "              age        bmi  systolic_bp  diastolic_bp\n",
      "site                                                   \n",
      "site a  81.300740  26.294371   117.294577     73.548069\n",
      "site b  80.373164  26.166650   117.248776     73.375612\n",
      "site c  80.878021  26.299367   117.825086     73.623705\n",
      "site d  80.559496  26.266509   118.124507     73.781718\n",
      "site e  80.576331  26.360710   117.474556     73.558580\n"
     ]
    }
   ],
   "source": [
    "# TODO: Group by site\n",
    "groupby_site = df.groupby('site')[['age', 'bmi', 'systolic_bp', 'diastolic_bp']].mean()\n",
    "print(groupby_site)"
   ]
  },
  {
   "cell_type": "code",
   "execution_count": 113,
   "metadata": {},
   "outputs": [
    {
     "name": "stdout",
     "output_type": "stream",
     "text": [
      "\n",
      " intervention_group\n",
      "control        2808\n",
      "treatment a    2734\n",
      "treatment b    2786\n",
      "Name: patient_id, dtype: int64\n"
     ]
    }
   ],
   "source": [
    "# TODO: Count by intervention group\n",
    "groupby_intervention = df.groupby('intervention_group')['patient_id'].count()\n",
    "print(\"\\n\", groupby_intervention)"
   ]
  },
  {
   "cell_type": "markdown",
   "metadata": {},
   "source": [
    "**Note:** The `summarize_by_group()` function has an optional `agg_dict` parameter for custom aggregations. If you don't specify it, it will use `.describe()` on numeric columns. You can use `agg_dict={'age': ['mean', 'std'], 'bmi': 'mean'}` for custom aggregations.\n"
   ]
  },
  {
   "cell_type": "code",
   "execution_count": 114,
   "metadata": {},
   "outputs": [
    {
     "name": "stdout",
     "output_type": "stream",
     "text": [
      "\n",
      " Site Statistics:\n"
     ]
    },
    {
     "data": {
      "text/html": [
       "<div>\n",
       "<style scoped>\n",
       "    .dataframe tbody tr th:only-of-type {\n",
       "        vertical-align: middle;\n",
       "    }\n",
       "\n",
       "    .dataframe tbody tr th {\n",
       "        vertical-align: top;\n",
       "    }\n",
       "\n",
       "    .dataframe thead tr th {\n",
       "        text-align: left;\n",
       "    }\n",
       "\n",
       "    .dataframe thead tr:last-of-type th {\n",
       "        text-align: right;\n",
       "    }\n",
       "</style>\n",
       "<table border=\"1\" class=\"dataframe\">\n",
       "  <thead>\n",
       "    <tr>\n",
       "      <th></th>\n",
       "      <th>patient_id</th>\n",
       "      <th colspan=\"2\" halign=\"left\">age</th>\n",
       "      <th colspan=\"2\" halign=\"left\">bmi</th>\n",
       "    </tr>\n",
       "    <tr>\n",
       "      <th></th>\n",
       "      <th>count</th>\n",
       "      <th>mean</th>\n",
       "      <th>std</th>\n",
       "      <th>mean</th>\n",
       "      <th>std</th>\n",
       "    </tr>\n",
       "    <tr>\n",
       "      <th>site</th>\n",
       "      <th></th>\n",
       "      <th></th>\n",
       "      <th></th>\n",
       "      <th></th>\n",
       "      <th></th>\n",
       "    </tr>\n",
       "  </thead>\n",
       "  <tbody>\n",
       "    <tr>\n",
       "      <th>site a</th>\n",
       "      <td>2434</td>\n",
       "      <td>81.300740</td>\n",
       "      <td>13.730898</td>\n",
       "      <td>26.294371</td>\n",
       "      <td>3.762968</td>\n",
       "    </tr>\n",
       "    <tr>\n",
       "      <th>site b</th>\n",
       "      <td>2042</td>\n",
       "      <td>80.373164</td>\n",
       "      <td>13.426696</td>\n",
       "      <td>26.166650</td>\n",
       "      <td>3.639129</td>\n",
       "    </tr>\n",
       "    <tr>\n",
       "      <th>site c</th>\n",
       "      <td>1738</td>\n",
       "      <td>80.878021</td>\n",
       "      <td>13.357149</td>\n",
       "      <td>26.299367</td>\n",
       "      <td>3.726802</td>\n",
       "    </tr>\n",
       "    <tr>\n",
       "      <th>site d</th>\n",
       "      <td>1269</td>\n",
       "      <td>80.559496</td>\n",
       "      <td>13.377932</td>\n",
       "      <td>26.266509</td>\n",
       "      <td>3.666040</td>\n",
       "    </tr>\n",
       "    <tr>\n",
       "      <th>site e</th>\n",
       "      <td>845</td>\n",
       "      <td>80.576331</td>\n",
       "      <td>13.731098</td>\n",
       "      <td>26.360710</td>\n",
       "      <td>3.605508</td>\n",
       "    </tr>\n",
       "  </tbody>\n",
       "</table>\n",
       "</div>"
      ],
      "text/plain": [
       "       patient_id        age                   bmi          \n",
       "            count       mean        std       mean       std\n",
       "site                                                        \n",
       "site a       2434  81.300740  13.730898  26.294371  3.762968\n",
       "site b       2042  80.373164  13.426696  26.166650  3.639129\n",
       "site c       1738  80.878021  13.357149  26.299367  3.726802\n",
       "site d       1269  80.559496  13.377932  26.266509  3.666040\n",
       "site e        845  80.576331  13.731098  26.360710  3.605508"
      ]
     },
     "metadata": {},
     "output_type": "display_data"
    }
   ],
   "source": [
    "# TODO: Use summarize_by_group utility\n",
    "siteStats = summarize_by_group(df, group_col = \"site\", agg_dict = {\n",
    "    'patient_id': 'count',\n",
    "    'age': ['mean', 'std'],\n",
    "    'bmi': ['mean', 'std']\n",
    "})\n",
    "print(\"\\n\", \"Site Statistics:\")\n",
    "display(siteStats)"
   ]
  },
  {
   "cell_type": "markdown",
   "metadata": {},
   "source": [
    "## Part 2: Multiple Aggregations (5 points)\n",
    "\n",
    "Group by 'site' and apply multiple aggregations:\n",
    "- age: mean, std, min, max\n",
    "- bmi: mean, std\n",
    "- systolic_bp: mean, median\n",
    "\n",
    "Display the results in a well-formatted table."
   ]
  },
  {
   "cell_type": "code",
   "execution_count": 115,
   "metadata": {},
   "outputs": [
    {
     "data": {
      "text/html": [
       "<div>\n",
       "<style scoped>\n",
       "    .dataframe tbody tr th:only-of-type {\n",
       "        vertical-align: middle;\n",
       "    }\n",
       "\n",
       "    .dataframe tbody tr th {\n",
       "        vertical-align: top;\n",
       "    }\n",
       "\n",
       "    .dataframe thead tr th {\n",
       "        text-align: left;\n",
       "    }\n",
       "\n",
       "    .dataframe thead tr:last-of-type th {\n",
       "        text-align: right;\n",
       "    }\n",
       "</style>\n",
       "<table border=\"1\" class=\"dataframe\">\n",
       "  <thead>\n",
       "    <tr>\n",
       "      <th></th>\n",
       "      <th colspan=\"4\" halign=\"left\">age</th>\n",
       "      <th colspan=\"2\" halign=\"left\">bmi</th>\n",
       "      <th colspan=\"2\" halign=\"left\">systolic_bp</th>\n",
       "    </tr>\n",
       "    <tr>\n",
       "      <th></th>\n",
       "      <th>mean</th>\n",
       "      <th>std</th>\n",
       "      <th>min</th>\n",
       "      <th>max</th>\n",
       "      <th>mean</th>\n",
       "      <th>std</th>\n",
       "      <th>mean</th>\n",
       "      <th>median</th>\n",
       "    </tr>\n",
       "    <tr>\n",
       "      <th>site</th>\n",
       "      <th></th>\n",
       "      <th></th>\n",
       "      <th></th>\n",
       "      <th></th>\n",
       "      <th></th>\n",
       "      <th></th>\n",
       "      <th></th>\n",
       "      <th></th>\n",
       "    </tr>\n",
       "  </thead>\n",
       "  <tbody>\n",
       "    <tr>\n",
       "      <th>site a</th>\n",
       "      <td>81.300740</td>\n",
       "      <td>13.730898</td>\n",
       "      <td>44.0</td>\n",
       "      <td>100.0</td>\n",
       "      <td>26.294371</td>\n",
       "      <td>3.762968</td>\n",
       "      <td>117.294577</td>\n",
       "      <td>117.0</td>\n",
       "    </tr>\n",
       "    <tr>\n",
       "      <th>site b</th>\n",
       "      <td>80.373164</td>\n",
       "      <td>13.426696</td>\n",
       "      <td>45.0</td>\n",
       "      <td>100.0</td>\n",
       "      <td>26.166650</td>\n",
       "      <td>3.639129</td>\n",
       "      <td>117.248776</td>\n",
       "      <td>117.0</td>\n",
       "    </tr>\n",
       "    <tr>\n",
       "      <th>site c</th>\n",
       "      <td>80.878021</td>\n",
       "      <td>13.357149</td>\n",
       "      <td>45.0</td>\n",
       "      <td>100.0</td>\n",
       "      <td>26.299367</td>\n",
       "      <td>3.726802</td>\n",
       "      <td>117.825086</td>\n",
       "      <td>117.0</td>\n",
       "    </tr>\n",
       "    <tr>\n",
       "      <th>site d</th>\n",
       "      <td>80.559496</td>\n",
       "      <td>13.377932</td>\n",
       "      <td>45.0</td>\n",
       "      <td>100.0</td>\n",
       "      <td>26.266509</td>\n",
       "      <td>3.666040</td>\n",
       "      <td>118.124507</td>\n",
       "      <td>117.0</td>\n",
       "    </tr>\n",
       "    <tr>\n",
       "      <th>site e</th>\n",
       "      <td>80.576331</td>\n",
       "      <td>13.731098</td>\n",
       "      <td>44.0</td>\n",
       "      <td>100.0</td>\n",
       "      <td>26.360710</td>\n",
       "      <td>3.605508</td>\n",
       "      <td>117.474556</td>\n",
       "      <td>117.0</td>\n",
       "    </tr>\n",
       "  </tbody>\n",
       "</table>\n",
       "</div>"
      ],
      "text/plain": [
       "              age                                bmi           systolic_bp  \\\n",
       "             mean        std   min    max       mean       std        mean   \n",
       "site                                                                         \n",
       "site a  81.300740  13.730898  44.0  100.0  26.294371  3.762968  117.294577   \n",
       "site b  80.373164  13.426696  45.0  100.0  26.166650  3.639129  117.248776   \n",
       "site c  80.878021  13.357149  45.0  100.0  26.299367  3.726802  117.825086   \n",
       "site d  80.559496  13.377932  45.0  100.0  26.266509  3.666040  118.124507   \n",
       "site e  80.576331  13.731098  44.0  100.0  26.360710  3.605508  117.474556   \n",
       "\n",
       "               \n",
       "       median  \n",
       "site           \n",
       "site a  117.0  \n",
       "site b  117.0  \n",
       "site c  117.0  \n",
       "site d  117.0  \n",
       "site e  117.0  "
      ]
     },
     "metadata": {},
     "output_type": "display_data"
    }
   ],
   "source": [
    "# TODO: Multiple aggregations\n",
    "df_grouped = df.groupby('site')\n",
    "\n",
    "agg_dict = {'age': ['mean', 'std', 'min', 'max'], \n",
    "            'bmi': ['mean', 'std'], \n",
    "            'systolic_bp': ['mean', 'median']}\n",
    "\n",
    "df_grouped = df_grouped.agg(agg_dict)\n",
    "\n",
    "display(df_grouped)"
   ]
  },
  {
   "cell_type": "markdown",
   "metadata": {},
   "source": [
    "## Part 3: Comparative Analysis (5 points)\n",
    "\n",
    "Compare intervention groups:\n",
    "1. Calculate mean outcome_cvd rate by intervention_group\n",
    "2. Calculate mean adherence_pct by intervention_group\n",
    "3. Create a cross-tabulation of intervention_group vs dropout status\n",
    "4. Visualize the comparison with a bar plot"
   ]
  },
  {
   "cell_type": "code",
   "execution_count": 116,
   "metadata": {},
   "outputs": [
    {
     "name": "stdout",
     "output_type": "stream",
     "text": [
      "\n",
      "Comparative Analysis by Intervention Group:\n",
      "                    CVD Rate (%)  Mean Adherence (%)  Dropout Rate (%)\n",
      "intervention_group                                                    \n",
      "control                33.297721           60.954772         15.669516\n",
      "treatment a            31.931236           60.321873         14.923189\n",
      "treatment b            33.560660           61.136037         14.070352\n",
      "\n",
      "\n",
      "Dropout Crosstab:\n",
      "dropout               no  yes\n",
      "intervention_group           \n",
      "control             2368  440\n",
      "treatment a         2326  408\n",
      "treatment b         2394  392\n"
     ]
    }
   ],
   "source": [
    "# TODO: Intervention group comparisons\n",
    "# Create aggregation dictionary for multiple metrics\n",
    "agg_dict = {\n",
    "    'outcome_cvd': lambda x: (x == 'yes').sum() / len(x) * 100,  # CVD rate\n",
    "    'adherence_pct': 'mean',                                      # Mean adherence\n",
    "    'dropout': lambda x: (x == 'yes').sum() / len(x) * 100          # Dropout rate\n",
    "}\n",
    "\n",
    "# Apply all aggregations at once\n",
    "comparison = df.groupby('intervention_group').agg(agg_dict)\n",
    "\n",
    "# Rename columns for clarity\n",
    "comparison.columns = ['CVD Rate (%)', 'Mean Adherence (%)', 'Dropout Rate (%)']\n",
    "\n",
    "print(\"\\nComparative Analysis by Intervention Group:\")\n",
    "print(comparison)\n",
    "\n",
    "# Also show the crosstab\n",
    "crosstab = pd.crosstab(df['intervention_group'], df['dropout'])\n",
    "print(\"\\n\\nDropout Crosstab:\")\n",
    "print(crosstab)"
   ]
  },
  {
   "cell_type": "code",
   "execution_count": 117,
   "metadata": {},
   "outputs": [
    {
     "data": {
      "image/png": "[encoded data removed]",
      "text/plain": [
       "<Figure size 1200x600 with 1 Axes>"
      ]
     },
     "metadata": {},
     "output_type": "display_data"
    }
   ],
   "source": [
    "# TODO: Visualization\n",
    "# Create visualization\n",
    "comparison.plot(kind='bar', figsize=(12, 6), width=0.8)\n",
    "plt.title('Intervention Group Comparison', fontsize=14, fontweight='bold')\n",
    "plt.xlabel('Intervention Group')\n",
    "plt.ylabel('Percentage (%)')\n",
    "plt.xticks(rotation=0)\n",
    "plt.legend(loc='best')\n",
    "plt.grid(axis='y', alpha=0.3)\n",
    "plt.tight_layout()\n",
    "plt.show()"
   ]
  },
  {
   "cell_type": "markdown",
   "metadata": {},
   "source": [
    "## Part 4: Final Report\n",
    "\n",
    "Create and save:\n",
    "1. Summary statistics by site → `output/q7_site_summary.csv`\n",
    "2. Intervention group comparison → `output/q7_intervention_comparison.csv`\n",
    "3. Text report with key findings → `output/q7_analysis_report.txt`"
   ]
  },
  {
   "cell_type": "code",
   "execution_count": 118,
   "metadata": {},
   "outputs": [],
   "source": [
    "# TODO: Save summary outputs\n",
    "# Prewritten visualization function for grouped analysis\n",
    "def plot_group_comparison(data, x_col, y_col, title):\n",
    "    \"\"\"\n",
    "    Create a bar chart comparing groups.\n",
    "    \n",
    "    Args:\n",
    "        data: DataFrame with grouped data\n",
    "        x_col: Column name for x-axis (groups)\n",
    "        y_col: Column name for y-axis (values)\n",
    "        title: Chart title\n",
    "    \"\"\"\n",
    "    plt.figure(figsize=(10, 6))\n",
    "    data.plot(x=x_col, y=y_col, kind='bar')\n",
    "    plt.title(title)\n",
    "    plt.xticks(rotation=45)\n",
    "    plt.tight_layout()\n",
    "    plt.show()\n",
    "\n",
    "# 1. Summary statistics by site → `output/q7_site_summary.csv`\n",
    "siteStats.to_csv('output/q7_site_summary.csv', index=False)\n",
    "\n",
    "# 2. Intervention group comparison → `output/q7_intervention_comparison.csv`\n",
    "comparison.to_csv('output/q7_intervention_comparison.csv')\n",
    "\n",
    "# 3. Text report with key findings → `output/q7_analysis_report.txt`\n",
    "with open('output/q7_analysis_report.txt', 'w') as report_file:\n",
    "    report_file.write(\"Key Findings from Aggregation Analysis\\n\")\n",
    "    report_file.write(\"=======================================\\n\\n\")\n",
    "    report_file.write(\"1. Site Summary Statistics:\\n\")\n",
    "    report_file.write(siteStats.to_string())\n",
    "    report_file.write(\"\\n\\n2. Intervention Group Comparison:\\n\")\n",
    "    report_file.write(comparison.to_string())\n",
    "    report_file.write(\"\\n\\n3. Observations:\\n\")\n",
    "    report_file.write(\"- From site A to site E, the count of patients decreases. Their mean age and BMI remained consistent.\\n\")\n",
    "    report_file.write(\"- The mean adherence and dropout rates stayed very consistent across intervention groups.\\n\")\n",
    "    report_file.write(\"- There was no significant difference in CVD rates across intervention groups.\\n\")"
   ]
  },
  {
   "cell_type": "markdown",
   "metadata": {},
   "source": [
    "## Summary\n",
    "\n",
    "What are the 3 most important findings from your analysis?"
   ]
  },
  {
   "cell_type": "markdown",
   "metadata": {},
   "source": [
    "**Key Findings:**\n",
    "\n",
    "1. From site A to site E, the count of patients decreases. Their mean age and BMI remained consistent.\n",
    "2. The mean adherence and dropout rates stayed very consistent across intervention groups.\n",
    "3. There was no significant difference in CVD rates across intervention groups."
   ]
  }
 ],
 "metadata": {
  "kernelspec": {
   "display_name": ".venv",
   "language": "python",
   "name": "python3"
  },
  "language_info": {
   "codemirror_mode": {
    "name": "ipython",
    "version": 3
   },
   "file_extension": ".py",
   "mimetype": "text/x-python",
   "name": "python",
   "nbconvert_exporter": "python",
   "pygments_lexer": "ipython3",
   "version": "3.12.3"
  }
 },
 "nbformat": 4,
 "nbformat_minor": 2
}
